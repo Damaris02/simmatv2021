{
 "cells": [
  {
   "cell_type": "markdown",
   "metadata": {},
   "source": [
    "# Clasificación binaria\n",
    "\n",
    "<img style=\"float: right; margin: 0px 0px 15px 15px;\" src=\"https://static.pexels.com/photos/616020/pexels-photo-616020.jpeg\" width=\"400px\" height=\"125px\" />\n",
    "\n",
    "> Lo que veremos en esta clase son aspectos básicos de lo que se conoce técnicamente con muchos nombres sofisticados: aprendizaje de máquina (machine learning), clasificación con redes neuronales (neural networks), entre otros.\n",
    "\n",
    "**Referencia**\n",
    "- https://es.coursera.org/learn/neural-networks-deep-learning\n",
    "___"
   ]
  },
  {
   "cell_type": "markdown",
   "metadata": {},
   "source": [
    "## 0. Motivación\n",
    "Muchas aplicaciones de ingeniería se derivan de construir **modelos** para:\n",
    "- predecir (clima, proyección de producción, toma de decisiones),\n",
    "- diseñar (máquinas eléctricas, construcciones),\n",
    "- entre otros.\n",
    "\n",
    "Hasta hace unos quince años, la construcción de dichos modelos se hacía mayoritariamente con base en leyes basadas en una fuerte evidencia de la naturaleza (leyes de Newton, ecuaciones de Maxwell, leyes de la termodinámica, entre otras).\n",
    "\n",
    "Sin embargo, en los últimos años, la gran cantidad de información disponible junto con el avance tecnológico en capacidad de procesamiento han llevado a que se construyan modelos con base en simplemente datos.\n",
    "\n",
    "Ejemplos:\n",
    "- Modelado de tráfico (waze/google maps).\n",
    "- Modelos sociales (publicidad, diseño de estrategias de mercadeo).\n",
    "- Modelos de... ¿personalidad?\n",
    "\n",
    "Si lo anterior no les resulta sorprendente, los invito a que saquen veinte minutos y lean la siguiente [entrevista](http://www.theclinic.cl/2017/01/19/martin-hilbert-experto-redes-digitales-obama-trump-usaron-big-data-lavar-cerebros/).\n",
    "\n",
    "Bueno, todo lo anterior es el poderoso alcance que tienen las tecnologías de la información. Hoy veremos un abrebocas: **construir un modelo de clasificación binaria con base en datos únicamente**."
   ]
  },
  {
   "cell_type": "markdown",
   "metadata": {},
   "source": [
    "## 1. Formulación del problema\n",
    "\n",
    "### 1.1 Idea básica\n",
    "\n",
    "<img style=\"float: right; margin: 0px 0px 15px 15px;\" src=\"https://upload.wikimedia.org/wikipedia/commons/d/db/Logo_ITESO_normal.jpg\" width=\"200px\" height=\"70px\" />\n",
    "\n",
    "Presentamos la idea básica de clasificación binaria mediante un ejemplo.\n",
    "\n",
    "Tenemos como *entrada* una imagen digital y como *salida* una etiqueta que identifica a esta imagen como el logo del ITESO (en cuyo caso la etiqueta toma el valor de uno '1') o no (en cuyo caso la etiqueta toma el valor de cero '0').\n",
    "\n",
    "A la salida la denotaremos $y$.\n",
    "\n",
    "**¿Cómo guarda las imágenes un computador?** Código de colores RGB.\n",
    "\n",
    "<font color = red>\n",
    "$$R=\\left[\\begin{array}{cccc}255 & 124 & \\dots & 45\\\\ 235 & 224 & \\dots & 135\\\\ \\vdots & \\vdots & & \\vdots\\\\ 23 & 12 & \\dots & 242\\end{array}\\right]$$\n",
    "</font>\n",
    "<font color = green>\n",
    "$$G=\\left[\\begin{array}{cccc}255 & 154 & \\dots & 42\\\\ 215 & 24 & \\dots & 145\\\\ \\vdots & \\vdots & & \\vdots\\\\ 0 & 112 & \\dots & 232\\end{array}\\right]$$\n",
    "</font>\n",
    "<font color = blue>\n",
    "$$B=\\left[\\begin{array}{cccc}255 & 231 & \\dots & 145\\\\ 144 & 234 & \\dots & 35\\\\ \\vdots & \\vdots & & \\vdots\\\\ 5 & 52 & \\dots & 42\\end{array}\\right]$$\n",
    "</font>\n",
    "\n",
    "Cada matriz tiene tamaño correspondiente con los pixeles de la imagen. Si la imagen se de $64px\\times 64px$, cada matriz será de $64\\times 64$.\n",
    "\n",
    "**¿Cómo podemos convertir entonces una imagen en una entrada?** Ponemos cada valor de cada matriz en un vector de características $\\boldsymbol{x}$:\n",
    "\n",
    "$$\\boldsymbol{x}=\\left[\\begin{array}{ccc} \\text{vec}R & \\text{vec}G & \\text{vec}B \\end{array}\\right]^T=\\left[\\begin{array}{ccccccccc} 255 & 124 & \\dots & 255 & 154 & \\dots & 255 & 231 & \\dots \\end{array}\\right]^T$$\n",
    "\n",
    "Entonces el problema de clasificación se puede resumir como dado un vector de entrada $\\boldsymbol{x}$ (en este caso un vector con las intensidades de rojo, verde y azul por pixel de una imagen), predecir si la etiqueta correspondiente $y$ toma el valor de $1$ o $0$ (si es logo del ITESO o no).\n",
    "\n",
    "### 1.2 Notación\n",
    "En adelante seguiremos la siguiente notación.\n",
    "\n",
    "Un ejemplo de entrenamiento se representa por la pareja ordenada $(\\boldsymbol{x},y)$, donde $\\boldsymbol{x}\\in\\mathbb{R}^n$ y $y\\in\\left\\lbrace0,1\\right\\rbrace$.\n",
    "\n",
    "Tendremos $m$ ejemplos de entrenamiento, de modo que nuestro conjunto de entrenamiento será $\\left\\lbrace(\\boldsymbol{x}^1,y^1),(\\boldsymbol{x}^2,y^2),\\dots,(\\boldsymbol{x}^m,y^m)\\right\\rbrace$.\n",
    "\n",
    "Por otra parte, para presentar de forma más compacta las entradas de entrenamiento, definimos la matriz\n",
    "\n",
    "$$\\boldsymbol{X}=\\left[\\begin{array}{c} {\\boldsymbol{x}^1}^T \\\\ {\\boldsymbol{x}^2}^T \\\\ \\vdots \\\\ {\\boldsymbol{x}^m}^T \\end{array}\\right]\\in\\mathbb{R}^{m\\times n},$$\n",
    "\n",
    "cuyas filas son los vectores de entrenamiento de entrada transpuestos, y el vector\n",
    "\n",
    "$$\\boldsymbol{Y}=\\left[\\begin{array}{c} y^1 \\\\ y^2 \\\\ \\vdots \\\\ y^m \\end{array}\\right]\\in\\mathbb{R}^{m},$$\n",
    "\n",
    "cuyas componentes son las etiquetas (salidas) de entrenamiento."
   ]
  },
  {
   "cell_type": "markdown",
   "metadata": {},
   "source": [
    "## 2. Regresión logística\n",
    "\n",
    "La idea entonces es, dado un vector de características $\\boldsymbol{x}$ (quizá correspondiente a una imagen que queramos identificar como el logo del ITESO o no), queremos obtener una predicción $\\hat{y}$ que es nuestro estimado de $y$.\n",
    "\n",
    "Formalmente $\\hat{y}=P(y=1|\\boldsymbol{x})\\in\\left[0,1\\right]$...\n",
    "\n",
    "Los parámetros de regresión serán $\\boldsymbol{\\beta}=\\left[\\beta_0\\quad \\beta_1\\quad \\dots\\quad \\beta_n \\right]^T\\in\\mathbb{R}^{n+1}.$\n",
    "\n",
    "**Primera idea:** usar una regresor lineal \n",
    "\n",
    "$$\\hat{y}=\\beta_0+\\beta_1x_1+\\beta_2x_2+\\dots+\\beta_nx_n=\\left[1\\quad \\boldsymbol{x}^T\\right]\\boldsymbol{\\beta}=\\boldsymbol{x}_a^T\\boldsymbol{\\beta},$$\n",
    "\n",
    "donde $\\boldsymbol{x}_a=\\left[1\\quad \\boldsymbol{x}^T \\right]^T\\in\\mathbb{R}^{n+1}$. \n",
    "\n",
    "¿Cuál es el problema? Que el producto punto $\\boldsymbol{\\beta}^T\\boldsymbol{x}_a$ no está entre $0$ y $1$.\n",
    "\n",
    "**Entonces,** pasamos el regresor lineal por una sigmoide (función logística)\n",
    "\n",
    "$$\\sigma(z)=\\frac{1}{1+e^{-z}}$$"
   ]
  },
  {
   "cell_type": "code",
   "execution_count": 5,
   "metadata": {},
   "outputs": [],
   "source": [
    "# Importar librerías\n",
    "import numpy as np\n",
    "import matplotlib.pyplot as plt\n",
    "%matplotlib inline"
   ]
  },
  {
   "cell_type": "code",
   "execution_count": 8,
   "metadata": {},
   "outputs": [
    {
     "data": {
      "text/plain": [
       "2.718281828459045"
      ]
     },
     "execution_count": 8,
     "metadata": {},
     "output_type": "execute_result"
    }
   ],
   "source": [
    "np.exp(1)"
   ]
  },
  {
   "cell_type": "code",
   "execution_count": 9,
   "metadata": {},
   "outputs": [],
   "source": [
    "# Definir función sigmoide\n",
    "def sigmoide(z):\n",
    "    return 1 / (1 + np.exp(-z))"
   ]
  },
  {
   "cell_type": "code",
   "execution_count": 10,
   "metadata": {},
   "outputs": [
    {
     "data": {
      "image/png": "[encoded data removed]",
      "text/plain": [
       "<Figure size 432x288 with 1 Axes>"
      ]
     },
     "metadata": {
      "needs_background": "light"
     },
     "output_type": "display_data"
    }
   ],
   "source": [
    "# Visualizar función \n",
    "z = np.linspace(-5, 5)\n",
    "plt.figure(figsize=(6, 4))\n",
    "plt.plot(z, sigmoide(z), lw=3)\n",
    "plt.xlabel(\"$z$\")\n",
    "plt.ylabel(\"$\\sigma(z)$\")\n",
    "plt.grid()"
   ]
  },
  {
   "cell_type": "markdown",
   "metadata": {},
   "source": [
    "Notamos que:\n",
    "- Si $z$ es grande, $\\sigma(z)=1$.\n",
    "- Si $-z$ es grande, $\\sigma(z)=0$.\n",
    "- $\\sigma(0)=0.5$.\n",
    "\n",
    "Finalmente...\n",
    "\n",
    "**Regresor logístico:** $\\hat{y}=\\sigma(\\boldsymbol{x}_a^T\\boldsymbol{\\beta})$.\n",
    "\n",
    "Para manejar todos los datos de entrenamiento, se define la matriz\n",
    "\n",
    "$$\\boldsymbol{X}_a=\\left[\\boldsymbol{1}_{m\\times 1}\\quad \\boldsymbol{X}\\right]=\\left[\\begin{array}{cc} 1 & {\\boldsymbol{x}^1}^T \\\\ 1 & {\\boldsymbol{x}^2}^T \\\\ \\vdots & \\vdots \\\\ 1 & {\\boldsymbol{x}^m}^T \\end{array}\\right]\\in\\mathbb{R}^{m\\times (n+1)}.$$\n",
    "\n",
    "Así,\n",
    "\n",
    "$$\\hat{\\boldsymbol{Y}}=\\left[\\begin{array}{c} \\hat{y}^1 \\\\ \\hat{y}^2 \\\\ \\vdots \\\\ \\hat{y}^m \\end{array}\\right]=\\sigma(\\boldsymbol{X}_a\\boldsymbol{\\beta})$$"
   ]
  },
  {
   "cell_type": "code",
   "execution_count": 11,
   "metadata": {},
   "outputs": [],
   "source": [
    "# Definir función de regresión logística\n",
    "def reg_log(X, beta):\n",
    "    m = X.shape[0]\n",
    "    Xa = np.concatenate((np.ones((m, 1)), X), axis=1)\n",
    "    return sigmoide(Xa.dot(beta))"
   ]
  },
  {
   "cell_type": "markdown",
   "metadata": {},
   "source": [
    "## 3. Funcional de costo\n",
    "Ya que tenemos definida la forma de nuestro modelo clasificador, debemos **entrenar** los parámetros $\\boldsymbol{\\beta}$ con los ejemplos de entrenamiento.\n",
    "\n",
    "Es decir, dados  $\\left\\lbrace(\\boldsymbol{x}^1,y^1),(\\boldsymbol{x}^2,y^2),\\dots,(\\boldsymbol{x}^m,y^m)\\right\\rbrace$, queremos encontrar parámetros $\\boldsymbol{\\beta}$ tales que $\\hat{y}^i=\\sigma({\\boldsymbol{x}_a^i}^T\\boldsymbol{\\beta})\\approx y^i$ 'lo mejor posible'.\n",
    "\n",
    "Esto lo plantearemos como un problema de optimización.\n",
    "\n",
    "**Primera idea:** minimizar error cuadrático $\\min_{\\boldsymbol{\\beta}} \\frac{1}{m}\\sum_{i=1}^m (\\hat{y}^i-y^i)^2$. Problema de optimización *no convexo* (explicar).\n",
    "\n",
    "**Alternativa:** entonces, se buscó una función de modo que el problema de optimización fuera convexo. Esta es:\n",
    "\n",
    "$$\\min_{\\boldsymbol{\\beta}} \\frac{1}{m}\\sum_{i=1}^m -\\left(y^i\\log(\\hat{y}^i)+(1-y^i)\\log(1-\\hat{y}^i)\\right)$$\n",
    "\n",
    "No pretendemos explicar toda esta función. Pero sí podemos ganar algo de intuición de porqué la usamos. Fijemos un $i$ dentro del sumatorio y consideremos el término $-\\left(y^i\\log(\\hat{y}^i)+(1-y^i)\\log(1-\\hat{y}^i)\\right)$.\n",
    "\n",
    "- Si $y^i=1$, entonces lo que queremos minimzar es $-\\log(\\hat{y}^i)$. Es decir, queremos que $\\hat{y}^i=\\sigma({\\boldsymbol{x}_a^i}^T\\boldsymbol{\\beta})$ sea lo más grande posible, osea $1=y^i$.\n",
    "- Si $y^i=0$, entonces lo que queremos minimzar es $-\\log(1-\\hat{y}^i)$. Es decir, queremos que $\\hat{y}^i=\\sigma({\\boldsymbol{x}_a^i}^T\\boldsymbol{\\beta})$ sea lo más pequeño posible, osea $0=y^i$.\n",
    "\n",
    "En cualquier caso, esta función objetivo cumple con lo requerido."
   ]
  },
  {
   "cell_type": "markdown",
   "metadata": {},
   "source": [
    "## Ejemplo\n",
    "El archivo `ex2data1.txt` contiene datos de puntajes de dos exámenes de admisión (1 y 2), y etiquetas de si el respectivo estudiante fue admitido o no a la universidad."
   ]
  },
  {
   "cell_type": "code",
   "execution_count": 12,
   "metadata": {},
   "outputs": [],
   "source": [
    "import pandas as pd"
   ]
  },
  {
   "cell_type": "code",
   "execution_count": 22,
   "metadata": {},
   "outputs": [
    {
     "data": {
      "text/html": [
       "<div>\n",
       "<style scoped>\n",
       "    .dataframe tbody tr th:only-of-type {\n",
       "        vertical-align: middle;\n",
       "    }\n",
       "\n",
       "    .dataframe tbody tr th {\n",
       "        vertical-align: top;\n",
       "    }\n",
       "\n",
       "    .dataframe thead th {\n",
       "        text-align: right;\n",
       "    }\n",
       "</style>\n",
       "<table border=\"1\" class=\"dataframe\">\n",
       "  <thead>\n",
       "    <tr style=\"text-align: right;\">\n",
       "      <th></th>\n",
       "      <th>Examen1</th>\n",
       "      <th>Examen2</th>\n",
       "      <th>Admitido</th>\n",
       "    </tr>\n",
       "  </thead>\n",
       "  <tbody>\n",
       "    <tr>\n",
       "      <th>0</th>\n",
       "      <td>34.623660</td>\n",
       "      <td>78.024693</td>\n",
       "      <td>0</td>\n",
       "    </tr>\n",
       "    <tr>\n",
       "      <th>1</th>\n",
       "      <td>30.286711</td>\n",
       "      <td>43.894998</td>\n",
       "      <td>0</td>\n",
       "    </tr>\n",
       "    <tr>\n",
       "      <th>2</th>\n",
       "      <td>35.847409</td>\n",
       "      <td>72.902198</td>\n",
       "      <td>0</td>\n",
       "    </tr>\n",
       "    <tr>\n",
       "      <th>3</th>\n",
       "      <td>60.182599</td>\n",
       "      <td>86.308552</td>\n",
       "      <td>1</td>\n",
       "    </tr>\n",
       "    <tr>\n",
       "      <th>4</th>\n",
       "      <td>79.032736</td>\n",
       "      <td>75.344376</td>\n",
       "      <td>1</td>\n",
       "    </tr>\n",
       "    <tr>\n",
       "      <th>5</th>\n",
       "      <td>45.083277</td>\n",
       "      <td>56.316372</td>\n",
       "      <td>0</td>\n",
       "    </tr>\n",
       "    <tr>\n",
       "      <th>6</th>\n",
       "      <td>61.106665</td>\n",
       "      <td>96.511426</td>\n",
       "      <td>1</td>\n",
       "    </tr>\n",
       "    <tr>\n",
       "      <th>7</th>\n",
       "      <td>75.024746</td>\n",
       "      <td>46.554014</td>\n",
       "      <td>1</td>\n",
       "    </tr>\n",
       "    <tr>\n",
       "      <th>8</th>\n",
       "      <td>76.098787</td>\n",
       "      <td>87.420570</td>\n",
       "      <td>1</td>\n",
       "    </tr>\n",
       "    <tr>\n",
       "      <th>9</th>\n",
       "      <td>84.432820</td>\n",
       "      <td>43.533393</td>\n",
       "      <td>1</td>\n",
       "    </tr>\n",
       "  </tbody>\n",
       "</table>\n",
       "</div>"
      ],
      "text/plain": [
       "     Examen1    Examen2  Admitido\n",
       "0  34.623660  78.024693         0\n",
       "1  30.286711  43.894998         0\n",
       "2  35.847409  72.902198         0\n",
       "3  60.182599  86.308552         1\n",
       "4  79.032736  75.344376         1\n",
       "5  45.083277  56.316372         0\n",
       "6  61.106665  96.511426         1\n",
       "7  75.024746  46.554014         1\n",
       "8  76.098787  87.420570         1\n",
       "9  84.432820  43.533393         1"
      ]
     },
     "execution_count": 22,
     "metadata": {},
     "output_type": "execute_result"
    }
   ],
   "source": [
    "# Leer el archivo ex2data1.txt\n",
    "data = pd.read_csv(\"ex2data1.txt\", header=None)\n",
    "data.columns = [\"Examen1\", \"Examen2\", \"Admitido\"]\n",
    "data.head(10)"
   ]
  },
  {
   "cell_type": "code",
   "execution_count": 24,
   "metadata": {},
   "outputs": [
    {
     "data": {
      "text/html": [
       "<div>\n",
       "<style scoped>\n",
       "    .dataframe tbody tr th:only-of-type {\n",
       "        vertical-align: middle;\n",
       "    }\n",
       "\n",
       "    .dataframe tbody tr th {\n",
       "        vertical-align: top;\n",
       "    }\n",
       "\n",
       "    .dataframe thead th {\n",
       "        text-align: right;\n",
       "    }\n",
       "</style>\n",
       "<table border=\"1\" class=\"dataframe\">\n",
       "  <thead>\n",
       "    <tr style=\"text-align: right;\">\n",
       "      <th></th>\n",
       "      <th>Examen1</th>\n",
       "      <th>Examen2</th>\n",
       "      <th>Admitido</th>\n",
       "    </tr>\n",
       "  </thead>\n",
       "  <tbody>\n",
       "    <tr>\n",
       "      <th>4</th>\n",
       "      <td>79.03</td>\n",
       "      <td>75.34</td>\n",
       "      <td>1</td>\n",
       "    </tr>\n",
       "    <tr>\n",
       "      <th>7</th>\n",
       "      <td>75.02</td>\n",
       "      <td>46.55</td>\n",
       "      <td>1</td>\n",
       "    </tr>\n",
       "  </tbody>\n",
       "</table>\n",
       "</div>"
      ],
      "text/plain": [
       "   Examen1  Examen2  Admitido\n",
       "4    79.03    75.34         1\n",
       "7    75.02    46.55         1"
      ]
     },
     "execution_count": 24,
     "metadata": {},
     "output_type": "execute_result"
    }
   ],
   "source": [
    "np.round(data.iloc[[4, 7], :], 2)"
   ]
  },
  {
   "cell_type": "code",
   "execution_count": 16,
   "metadata": {},
   "outputs": [],
   "source": [
    "# Separar datos de entrada y de salida\n",
    "X = data.iloc[:, 0:2]\n",
    "y = data.iloc[:, 2]"
   ]
  },
  {
   "cell_type": "code",
   "execution_count": 19,
   "metadata": {},
   "outputs": [
    {
     "data": {
      "image/png": "[encoded data removed]",
      "text/plain": [
       "<Figure size 432x288 with 2 Axes>"
      ]
     },
     "metadata": {
      "needs_background": "light"
     },
     "output_type": "display_data"
    }
   ],
   "source": [
    "# Graficar los puntos\n",
    "plt.figure(figsize=(6, 4))\n",
    "plt.scatter(X.iloc[:, 0], X.iloc[:, 1], c=y)\n",
    "plt.xlabel(\"Examen 1\")\n",
    "plt.ylabel(\"Examen 2\")\n",
    "plt.colorbar()\n",
    "plt.grid()"
   ]
  },
  {
   "cell_type": "markdown",
   "metadata": {},
   "source": [
    "Construir un clasificador binario por regresión lineal logística."
   ]
  },
  {
   "cell_type": "code",
   "execution_count": null,
   "metadata": {},
   "outputs": [],
   "source": [
    "# Importar módulo optimize de la librería scipy\n"
   ]
  },
  {
   "cell_type": "markdown",
   "metadata": {},
   "source": [
    "$$\\min_{\\boldsymbol{\\beta}} \\frac{1}{m}\\sum_{i=1}^m -\\left(y^i\\log(\\hat{y}^i)+(1-y^i)\\log(1-\\hat{y}^i)\\right)$$"
   ]
  },
  {
   "cell_type": "code",
   "execution_count": null,
   "metadata": {},
   "outputs": [],
   "source": [
    "# Función objetivo y dato inicial\n"
   ]
  },
  {
   "cell_type": "code",
   "execution_count": null,
   "metadata": {},
   "outputs": [],
   "source": [
    "# Rutina de optimización\n"
   ]
  },
  {
   "cell_type": "markdown",
   "metadata": {},
   "source": [
    "Los parámetros del clasificador son entonces:"
   ]
  },
  {
   "cell_type": "code",
   "execution_count": null,
   "metadata": {},
   "outputs": [],
   "source": [
    "# Parámetros\n"
   ]
  },
  {
   "cell_type": "code",
   "execution_count": null,
   "metadata": {},
   "outputs": [],
   "source": [
    "# Línea de separación\n"
   ]
  },
  {
   "cell_type": "markdown",
   "metadata": {},
   "source": [
    "## Tarea\n",
    "Considere los siguientes datos y diseñe un clasificador binario por regresión logística.\n",
    "\n",
    "Mostrar el gráfico de la división del clasificador con los puntos de entrenamiento.\n",
    "\n",
    "Abrir un nuevo notebook, llamado `Tarea4_ApellidoNombre` y subirlo a canvas en el espacio habilitado."
   ]
  },
  {
   "cell_type": "code",
   "execution_count": null,
   "metadata": {},
   "outputs": [],
   "source": [
    "X = 10*np.random.random((100, 2))\n",
    "Y = (X[:, 1] > X[:, 0]**2)*1"
   ]
  },
  {
   "cell_type": "code",
   "execution_count": null,
   "metadata": {},
   "outputs": [],
   "source": [
    "plt.figure(figsize = (8,6))\n",
    "plt.scatter(X[:,0], X[:,1], c=Y)\n",
    "plt.show()"
   ]
  },
  {
   "cell_type": "markdown",
   "metadata": {},
   "source": [
    "# Ideas de proyectos:\n",
    "1. Programación lineal: (con base en el libro Model building in mathematical programming de H. Paul Williams)\n",
    " - Planeación de mano de obra.\n",
    " - Planeación de producción.\n",
    "2. Ajuste de curvas:\n",
    " - Histórico de temperaturas hasta 2016: ajuste de curvas y predicción de temperaturas de 2017 (comparación con datos reales).\n",
    " - Por ejemplo, CO2 emissions (kt), Forest area (sq. km), están relacionados con cambio climático. En las emisiones de CO2 parece que en los últimos años la curva tiene tendencia de concavidad hacia abajo, lo que indicaría que las políticas que se estén ejecutando si están teniendo un impacto.\n",
    " - Otro ejemplo puede ser Access to electricity (% of population). Se ve que está en constante crecimiento. Se podría estimar cuándo se llegará al 95% o algo así.\n",
    "3. Clasificación:\n",
    " - Lo que se les ocurra.\n",
    " - Implementación de división cuadrática."
   ]
  },
  {
   "cell_type": "markdown",
   "metadata": {},
   "source": [
    "<script>\n",
    "  $(document).ready(function(){\n",
    "    $('div.prompt').hide();\n",
    "    $('div.back-to-top').hide();\n",
    "    $('nav#menubar').hide();\n",
    "    $('.breadcrumb').hide();\n",
    "    $('.hidden-print').hide();\n",
    "  });\n",
    "</script>\n",
    "\n",
    "<footer id=\"attribution\" style=\"float:right; color:#808080; background:#fff;\">\n",
    "Created with Jupyter by Esteban Jiménez Rodríguez.\n",
    "</footer>"
   ]
  }
 ],
 "metadata": {
  "kernelspec": {
   "display_name": "Python 3",
   "language": "python",
   "name": "python3"
  },
  "language_info": {
   "codemirror_mode": {
    "name": "ipython",
    "version": 3
   },
   "file_extension": ".py",
   "mimetype": "text/x-python",
   "name": "python",
   "nbconvert_exporter": "python",
   "pygments_lexer": "ipython3",
   "version": "3.7.6"
  }
 },
 "nbformat": 4,
 "nbformat_minor": 2
}
