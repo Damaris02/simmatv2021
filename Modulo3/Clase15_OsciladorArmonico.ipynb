{
 "cells": [
  {
   "cell_type": "markdown",
   "metadata": {},
   "source": [
    "#  ¿Cómo se mueve un péndulo? \n",
    "\n",
    "> Calificaciones: https://docs.google.com/spreadsheets/d/1X8sAHmrIErYgoAjTocclAFS0Mx_EA8BDWlp6DgYyBVo/edit?usp=sharing\n",
    "\n",
    "> Se dice que un sistema cualquiera, mecánico, eléctrico, neumático, etc., es un oscilador armónico si, cuando se deja en libertad fuera de su posición de equilibrio, vuelve hacia ella describiendo oscilaciones sinusoidales, o sinusoidales amortiguadas en torno a dicha posición estable.\n",
    "- https://es.wikipedia.org/wiki/Oscilador_armónico"
   ]
  },
  {
   "cell_type": "markdown",
   "metadata": {},
   "source": [
    "Referencias: \n",
    "   - http://matplotlib.org\n",
    "   - https://seaborn.pydata.org\n",
    "   - http://www.numpy.org\n",
    "   - http://ipywidgets.readthedocs.io/en/latest/index.html"
   ]
  },
  {
   "cell_type": "markdown",
   "metadata": {},
   "source": [
    "**En realidad esto es el estudio de oscilaciones. **\n",
    "___\n",
    " <div>\n",
    "<img style=\"float: left; margin: 0px 0px 15px 15px;\" src=\"https://upload.wikimedia.org/wikipedia/commons/8/8c/Andromeda_Galaxy_560mm_FL.jpg\" width=\"400px\" height=\"100px\" />\n",
    " </div>"
   ]
  },
  {
   "cell_type": "code",
   "execution_count": null,
   "metadata": {},
   "outputs": [],
   "source": [
    "from IPython.display import YouTubeVideo\n",
    "YouTubeVideo('k5yTVHr6V14')"
   ]
  },
  {
   "cell_type": "markdown",
   "metadata": {},
   "source": [
    "Los sistemas mas sencillos a estudiar en oscilaciones son el sistema ` masa-resorte` y el `péndulo simple`. "
   ]
  },
  {
   "cell_type": "markdown",
   "metadata": {},
   "source": [
    "<div>\n",
    "<img style=\"float: left; margin: 0px 0px 15px 15px;\" src=\"https://upload.wikimedia.org/wikipedia/commons/7/76/Pendulum.jpg\" width=\"150px\" height=\"50px\" />\n",
    "<img style=\"float: right; margin: 15px 15px 15px 15px;\" src=\"https://upload.wikimedia.org/wikipedia/ko/9/9f/Mass_spring.png\" width=\"200px\" height=\"100px\" />\n",
    "</div>\n",
    "\n",
    "\\begin{align}\n",
    "\\frac{d^2 x}{dt^2} +  \\omega_{0}^2 x &= 0, \\quad \\omega_{0} = \\sqrt{\\frac{k}{m}}\\notag\\\\\n",
    "\\frac{d^2 \\theta}{dt^2} + \\omega_{0}^{2}\\, \\theta &= 0, \\quad\\mbox{donde}\\quad \\omega_{0}^2 = \\frac{g}{l} \n",
    "\\end{align} "
   ]
  },
  {
   "cell_type": "markdown",
   "metadata": {},
   "source": [
    "___\n",
    "## Sistema `masa-resorte`"
   ]
  },
  {
   "cell_type": "markdown",
   "metadata": {},
   "source": [
    "La solución a este sistema `masa-resorte` se explica en términos de la segunda ley de Newton. Para este caso, si la masa permanece constante y solo consideramos la dirección en $x$. Entonces,\n",
    "\\begin{equation}\n",
    "F = m \\frac{d^2x}{dt^2}.\n",
    "\\end{equation}\n",
    "\n",
    "¿Cuál es la fuerza? **Ley de Hooke!**\n",
    "\\begin{equation}\n",
    "F = -k x, \\quad k > 0.\n",
    "\\end{equation}\n",
    "\n",
    "Vemos que la fuerza se opone al desplazamiento y su intensidad es proporcional al mismo.  Y $k$ es la constante elástica o recuperadora del resorte. \n",
    "\n",
    "Entonces, un modelo del sistema `masa-resorte` está descrito por la siguiente **ecuación diferencial**:\n",
    "\n",
    "\\begin{equation}\n",
    "\\frac{d^2x}{dt^2} + \\frac{k}{m}x = 0,\n",
    "\\end{equation}\n",
    "\n",
    "cuya solución se escribe como \n",
    "\\begin{equation}\n",
    "x(t) = A \\cos(\\omega_{o} t) + B \\sin(\\omega_{o} t)\n",
    "\\end{equation}\n",
    "Y su primera derivada (velocidad) sería \n",
    "\\begin{equation}\n",
    "\\frac{dx(t)}{dt} = \\omega_{0}[- A \\sin(\\omega_{0} t) + B\\cos(\\omega_{0}t)]\n",
    "\\end{equation}\n",
    "\n",
    "<font color=red> Ver en el tablero que significa solución de la ecuación diferencial.</font>"
   ]
  },
  {
   "cell_type": "markdown",
   "metadata": {},
   "source": [
    "### **¿Cómo se ven las gráficas de $x$ vs $t$ y $\\frac{dx}{dt}$ vs $t$?** "
   ]
  },
  {
   "cell_type": "markdown",
   "metadata": {},
   "source": [
    "_Esta instrucción es para que las gráficas aparezcan dentro de este entorno._"
   ]
  },
  {
   "cell_type": "code",
   "execution_count": null,
   "metadata": {},
   "outputs": [],
   "source": [
    "import matplotlib.pyplot as plt\n",
    "%matplotlib inline"
   ]
  },
  {
   "cell_type": "code",
   "execution_count": null,
   "metadata": {},
   "outputs": [],
   "source": [
    "# Podemos cambiar qué tan grandes son los números de los ejes\n",
    "import matplotlib as mpl\n",
    "label_size = 14\n",
    "mpl.rcParams['xtick.labelsize'] = label_size \n",
    "mpl.rcParams['ytick.labelsize'] = label_size"
   ]
  },
  {
   "cell_type": "code",
   "execution_count": null,
   "metadata": {},
   "outputs": [],
   "source": [
    "import numpy as np"
   ]
  },
  {
   "cell_type": "code",
   "execution_count": null,
   "metadata": {},
   "outputs": [],
   "source": [
    "# Definición de funciones a graficar\n",
    "\n",
    "# Gráfico\n"
   ]
  },
  {
   "cell_type": "markdown",
   "metadata": {},
   "source": [
    "Y si consideramos un conjunto de frecuencias de oscilación, entonces "
   ]
  },
  {
   "cell_type": "code",
   "execution_count": null,
   "metadata": {},
   "outputs": [],
   "source": [
    "frecuencias = np.array([.1, .2 , .5, .6])   # Vector de diferentes frecuencias\n",
    "plt.figure(figsize = (7, 4))                # Ventana de gráfica con tamaño\n",
    "\n",
    "# Graficamos para cada frecuencia\n"
   ]
  },
  {
   "cell_type": "markdown",
   "metadata": {},
   "source": [
    "Si queremos manipular un poco mas las cosas, hacemos uso de lo siguiente:"
   ]
  },
  {
   "cell_type": "code",
   "execution_count": null,
   "metadata": {},
   "outputs": [],
   "source": [
    "from ipywidgets import *"
   ]
  },
  {
   "cell_type": "code",
   "execution_count": null,
   "metadata": {},
   "outputs": [],
   "source": [
    "def masa_resorte(t=0):\n",
    "    A, B, w0 = .5, .1, .5                            # Parámetros\n",
    "    x = A*np.cos(w0*t)+B*np.sin(w0*t)                # Función de posición\n",
    "    \n",
    "    fig = plt.figure()\n",
    "    ax = fig.add_subplot(1, 1, 1)\n",
    "    ax.plot(x, [0],  'ko', ms = 10)\n",
    "    ax.set_xlim(xmin = -0.6, xmax = .6)\n",
    "    ax.axvline(x=0, color = 'r')\n",
    "    ax.axhline(y=0, color = 'grey', lw = 1)\n",
    "    fig.canvas.draw()"
   ]
  },
  {
   "cell_type": "code",
   "execution_count": null,
   "metadata": {},
   "outputs": [],
   "source": [
    "interact(masa_resorte, t=(0, 50,.01));"
   ]
  },
  {
   "cell_type": "markdown",
   "metadata": {},
   "source": [
    "La opción de arriba generalmente será lenta, así que lo recomendable es usar `interact_manual`. "
   ]
  },
  {
   "cell_type": "code",
   "execution_count": null,
   "metadata": {},
   "outputs": [],
   "source": [
    "interact_manual(masa_resorte, t=(0, 50,.01));"
   ]
  },
  {
   "cell_type": "markdown",
   "metadata": {},
   "source": [
    "___\n",
    "## Péndulo simple\n",
    "Ahora, si fijamos nuestra atención al movimiento de un péndulo simple _(oscilaciones pequeñas)_, la ecuación diferencial a resolver tiene la misma forma:\n",
    "\n",
    "\\begin{equation}\n",
    "\\frac{d^2 \\theta}{dt^2} + \\omega_{0}^{2}\\, \\theta = 0, \\quad\\mbox{donde}\\quad \\omega_{0}^2 = \\frac{g}{l}.\n",
    "\\end{equation}\n",
    "\n",
    "La diferencia más evidente es como hemos definido a $\\omega_{0}$. Esto quiere decir que, \n",
    "\n",
    "\\begin{equation}\n",
    "\\theta(t) = A\\cos(\\omega_{0} t) + B\\sin(\\omega_{0}t)\n",
    "\\end{equation}\n",
    "\n",
    "Si graficamos la ecuación de arriba vamos a encontrar un comportamiento muy similar al ya discutido anteriormente. Es por ello que ahora veremos el movimiento en el plano $xy$. Es decir, \n",
    "\n",
    "\\begin{align}\n",
    "x &= l \\sin(\\theta), \\quad\n",
    "y = l \\cos(\\theta) \n",
    "\\end{align}"
   ]
  },
  {
   "cell_type": "code",
   "execution_count": null,
   "metadata": {},
   "outputs": [],
   "source": [
    "# Podemos definir una función que nos entregue theta dados los parámetros y el tiempo\n",
    "def theta_t(a, b, g, l, t):\n",
    "    omega_0 = np.sqrt(g / l)\n",
    "    return a * np.cos(omega_0 * t) + b * np.sin(omega_0 * t) "
   ]
  },
  {
   "cell_type": "code",
   "execution_count": null,
   "metadata": {},
   "outputs": [],
   "source": [
    "# Hacemos un gráfico interactivo del péndulo\n",
    "def pendulo_simple(t=0):\n",
    "    pass"
   ]
  },
  {
   "cell_type": "code",
   "execution_count": null,
   "metadata": {},
   "outputs": [],
   "source": [
    "interact_manual(pendulo_simple, t=(0, 10,.01));"
   ]
  },
  {
   "cell_type": "markdown",
   "metadata": {},
   "source": [
    "### Condiciones iniciales "
   ]
  },
  {
   "cell_type": "markdown",
   "metadata": {},
   "source": [
    "Realmente lo que se tiene que resolver es, \n",
    "\n",
    "\\begin{equation}\n",
    "\\theta(t) = \\theta(0) \\cos(\\omega_{0} t) + \\frac{\\dot{\\theta}(0)}{\\omega_{0}} \\sin(\\omega_{0} t)\n",
    "\\end{equation}"
   ]
  },
  {
   "cell_type": "markdown",
   "metadata": {},
   "source": [
    "> **Actividad.** Modificar el programa anterior para incorporar las condiciones iniciales. "
   ]
  },
  {
   "cell_type": "code",
   "execution_count": null,
   "metadata": {},
   "outputs": [],
   "source": [
    "# Solución: \n",
    "def theta_t(theta0, dtheta0, g, l, t):\n",
    "    pass"
   ]
  },
  {
   "cell_type": "code",
   "execution_count": null,
   "metadata": {},
   "outputs": [],
   "source": [
    "def pendulo_simple(t=0):\n",
    "    fig = plt.figure(figsize = (5,5))\n",
    "    ax = fig.add_subplot(1, 1, 1)\n",
    "    l = 2\n",
    "    g = 9.8\n",
    "    theta0 = np.pi / 4\n",
    "    dtheta0 = 0\n",
    "    x = l * np.sin(theta_t(np.pi / 4, 0, 9.8, 2, t))\n",
    "    y =  - l * np.cos(theta_t(np.pi / 4, 0, 9.8, 2, t))\n",
    "    ax.plot(x, y, 'ko', ms = 10)\n",
    "    ax.plot([0], [0], 'rD')\n",
    "    ax.plot([0, x ], [0, y], 'k-', lw = 1)\n",
    "    ax.set_xlim(xmin = -2.2, xmax = 2.2)\n",
    "    ax.set_ylim(ymin = -2.2, ymax = .2)\n",
    "    fig.canvas.draw()\n",
    "    \n",
    "interact_manual(pendulo_simple, t=(0, 10,.01));"
   ]
  },
  {
   "cell_type": "markdown",
   "metadata": {},
   "source": [
    "### Plano fase  $(x, \\frac{dx}{dt})$"
   ]
  },
  {
   "cell_type": "markdown",
   "metadata": {},
   "source": [
    "La posición y velocidad para el sistema `masa-resorte` se escriben como: "
   ]
  },
  {
   "cell_type": "markdown",
   "metadata": {},
   "source": [
    "\\begin{align}\n",
    "x(t) &= x(0) \\cos(\\omega_{o} t) + \\frac{\\dot{x}(0)}{\\omega_{0}} \\sin(\\omega_{o} t)\\\\\n",
    "\\dot{x}(t) &= -\\omega_{0}x(0) \\sin(\\omega_{0} t) + \\dot{x}(0)\\cos(\\omega_{0}t)]\n",
    "\\end{align}"
   ]
  },
  {
   "cell_type": "code",
   "execution_count": null,
   "metadata": {},
   "outputs": [],
   "source": [
    "# Parámetros\n",
    "k = 3  #constante elástica [N]/[m] \n",
    "m = 1 # [kg]\n",
    "omega_0 = np.sqrt(k/m)\n",
    "x_0 = .5\n",
    "dx_0 = .1 "
   ]
  },
  {
   "cell_type": "code",
   "execution_count": null,
   "metadata": {},
   "outputs": [],
   "source": [
    "# Vector de tiempo\n"
   ]
  },
  {
   "cell_type": "code",
   "execution_count": null,
   "metadata": {},
   "outputs": [],
   "source": [
    "# Posición y velocidad\n"
   ]
  },
  {
   "cell_type": "code",
   "execution_count": null,
   "metadata": {},
   "outputs": [],
   "source": [
    "# Gráficas en el tiempo\n"
   ]
  },
  {
   "cell_type": "code",
   "execution_count": null,
   "metadata": {},
   "outputs": [],
   "source": [
    "# posición vs. velocidad\n"
   ]
  },
  {
   "cell_type": "code",
   "execution_count": null,
   "metadata": {},
   "outputs": [],
   "source": [
    "# Usando scatter y una paleta de colores\n"
   ]
  },
  {
   "cell_type": "markdown",
   "metadata": {},
   "source": [
    "#### Multiples condiciones iniciales"
   ]
  },
  {
   "cell_type": "code",
   "execution_count": null,
   "metadata": {},
   "outputs": [],
   "source": [
    "k = 3  #constante elástica [N]/[m] \n",
    "m = 1 # [kg]\n",
    "omega_0 = np.sqrt(k/m)"
   ]
  },
  {
   "cell_type": "code",
   "execution_count": null,
   "metadata": {},
   "outputs": [],
   "source": [
    "# Condiciones iniciales\n",
    "x_0s = np.array([.7, .5, .25, .1])\n",
    "dx_0s = np.array([.2, .1, .05, .01])"
   ]
  },
  {
   "cell_type": "code",
   "execution_count": null,
   "metadata": {},
   "outputs": [],
   "source": [
    "# Vector de tiempo\n"
   ]
  },
  {
   "cell_type": "code",
   "execution_count": null,
   "metadata": {},
   "outputs": [],
   "source": [
    "# Gráficas\n"
   ]
  },
  {
   "cell_type": "markdown",
   "metadata": {},
   "source": [
    "Trayectorias del oscilador armónico simple en el espacio fase $(x,\\, \\dot{x}\\,/\\omega_0)$ para diferentes valores de la energía. "
   ]
  },
  {
   "cell_type": "markdown",
   "metadata": {},
   "source": [
    "# Anuncios parroquiales\n",
    "\n",
    "## 1. Examen final: lo habilito el miércoles 5 de mayo, entregan el viernes 7 de mayo.\n",
    "\n",
    "## 2. Proyecto tercer módulo para el viernes 14 de mayo.\n",
    "\n",
    "## 3. Quiz la próxima clase"
   ]
  },
  {
   "cell_type": "markdown",
   "metadata": {},
   "source": [
    "<script>\n",
    "  $(document).ready(function(){\n",
    "    $('div.prompt').hide();\n",
    "    $('div.back-to-top').hide();\n",
    "    $('nav#menubar').hide();\n",
    "    $('.breadcrumb').hide();\n",
    "    $('.hidden-print').hide();\n",
    "  });\n",
    "</script>\n",
    "\n",
    "<footer id=\"attribution\" style=\"float:right; color:#808080; background:#fff;\">\n",
    "Created with Jupyter by Lázaro Alonso. Modified by Esteban Jiménez Rodríguez\n",
    "</footer>"
   ]
  }
 ],
 "metadata": {
  "anaconda-cloud": {},
  "kernelspec": {
   "display_name": "Python 3",
   "language": "python",
   "name": "python3"
  },
  "language_info": {
   "codemirror_mode": {
    "name": "ipython",
    "version": 3
   },
   "file_extension": ".py",
   "mimetype": "text/x-python",
   "name": "python",
   "nbconvert_exporter": "python",
   "pygments_lexer": "ipython3",
   "version": "3.7.6"
  }
 },
 "nbformat": 4,
 "nbformat_minor": 1
}
